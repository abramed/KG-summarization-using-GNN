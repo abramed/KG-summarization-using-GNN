{
 "cells": [
  {
   "cell_type": "code",
   "execution_count": 3,
   "metadata": {},
   "outputs": [
    {
     "name": "stdout",
     "output_type": "stream",
     "text": [
      "INFO:moviegraphbenchmark:Data already present in DATA\n",
      "INFO:moviegraphbenchmark:Loading from data path: DATA\n"
     ]
    }
   ],
   "source": [
    "from moviegraphbenchmark import load_data\n",
    "ds = load_data(pair=\"imdb-tmdb\",data_path=\"DATA\")"
   ]
  },
  {
   "cell_type": "code",
   "execution_count": 9,
   "metadata": {},
   "outputs": [
    {
     "data": {
      "text/html": [
       "<div>\n",
       "<style scoped>\n",
       "    .dataframe tbody tr th:only-of-type {\n",
       "        vertical-align: middle;\n",
       "    }\n",
       "\n",
       "    .dataframe tbody tr th {\n",
       "        vertical-align: top;\n",
       "    }\n",
       "\n",
       "    .dataframe thead th {\n",
       "        text-align: right;\n",
       "    }\n",
       "</style>\n",
       "<table border=\"1\" class=\"dataframe\">\n",
       "  <thead>\n",
       "    <tr style=\"text-align: right;\">\n",
       "      <th></th>\n",
       "      <th>head</th>\n",
       "      <th>relation</th>\n",
       "      <th>tail</th>\n",
       "    </tr>\n",
       "  </thead>\n",
       "  <tbody>\n",
       "    <tr>\n",
       "      <th>0</th>\n",
       "      <td>https://www.scads.de/movieBenchmark/resource/T...</td>\n",
       "      <td>https://www.scads.de/movieBenchmark/ontology/name</td>\n",
       "      <td>Dean DeBlois^^&lt;http://www.w3.org/2001/XMLSchem...</td>\n",
       "    </tr>\n",
       "    <tr>\n",
       "      <th>1</th>\n",
       "      <td>https://www.scads.de/movieBenchmark/resource/T...</td>\n",
       "      <td>https://www.scads.de/movieBenchmark/ontology/t...</td>\n",
       "      <td>Episode 7^^&lt;http://www.w3.org/2001/XMLSchema#s...</td>\n",
       "    </tr>\n",
       "    <tr>\n",
       "      <th>2</th>\n",
       "      <td>https://www.scads.de/movieBenchmark/resource/T...</td>\n",
       "      <td>https://www.scads.de/movieBenchmark/ontology/r...</td>\n",
       "      <td>2009-01-01^^&lt;http://www.w3.org/2001/XMLSchema#...</td>\n",
       "    </tr>\n",
       "    <tr>\n",
       "      <th>3</th>\n",
       "      <td>https://www.scads.de/movieBenchmark/resource/T...</td>\n",
       "      <td>http://dbpedia.org/ontology/abstract</td>\n",
       "      <td>Part two of two. Despite arresting four people...</td>\n",
       "    </tr>\n",
       "    <tr>\n",
       "      <th>4</th>\n",
       "      <td>https://www.scads.de/movieBenchmark/resource/T...</td>\n",
       "      <td>https://www.scads.de/movieBenchmark/ontology/o...</td>\n",
       "      <td>Le Magicien^^&lt;http://www.w3.org/2001/XMLSchema...</td>\n",
       "    </tr>\n",
       "    <tr>\n",
       "      <th>5</th>\n",
       "      <td>https://www.scads.de/movieBenchmark/resource/T...</td>\n",
       "      <td>https://www.scads.de/movieBenchmark/ontology/t...</td>\n",
       "      <td>El Maniquí^^&lt;http://www.w3.org/2001/XMLSchema#...</td>\n",
       "    </tr>\n",
       "    <tr>\n",
       "      <th>6</th>\n",
       "      <td>https://www.scads.de/movieBenchmark/resource/T...</td>\n",
       "      <td>https://www.scads.de/movieBenchmark/ontology/t...</td>\n",
       "      <td>The Bellicose Proxy^^&lt;http://www.w3.org/2001/X...</td>\n",
       "    </tr>\n",
       "    <tr>\n",
       "      <th>7</th>\n",
       "      <td>https://www.scads.de/movieBenchmark/resource/T...</td>\n",
       "      <td>http://dbpedia.org/ontology/releaseDate</td>\n",
       "      <td>2014-02-14^^&lt;http://www.w3.org/2001/XMLSchema#...</td>\n",
       "    </tr>\n",
       "    <tr>\n",
       "      <th>8</th>\n",
       "      <td>https://www.scads.de/movieBenchmark/resource/T...</td>\n",
       "      <td>https://www.scads.de/movieBenchmark/ontology/s...</td>\n",
       "      <td>Returning Series^^&lt;http://www.w3.org/2001/XMLS...</td>\n",
       "    </tr>\n",
       "    <tr>\n",
       "      <th>9</th>\n",
       "      <td>https://www.scads.de/movieBenchmark/resource/T...</td>\n",
       "      <td>https://www.scads.de/movieBenchmark/ontology/name</td>\n",
       "      <td>Yiu-Tsou Cheung^^&lt;http://www.w3.org/2001/XMLSc...</td>\n",
       "    </tr>\n",
       "  </tbody>\n",
       "</table>\n",
       "</div>"
      ],
      "text/plain": [
       "                                                head  \\\n",
       "0  https://www.scads.de/movieBenchmark/resource/T...   \n",
       "1  https://www.scads.de/movieBenchmark/resource/T...   \n",
       "2  https://www.scads.de/movieBenchmark/resource/T...   \n",
       "3  https://www.scads.de/movieBenchmark/resource/T...   \n",
       "4  https://www.scads.de/movieBenchmark/resource/T...   \n",
       "5  https://www.scads.de/movieBenchmark/resource/T...   \n",
       "6  https://www.scads.de/movieBenchmark/resource/T...   \n",
       "7  https://www.scads.de/movieBenchmark/resource/T...   \n",
       "8  https://www.scads.de/movieBenchmark/resource/T...   \n",
       "9  https://www.scads.de/movieBenchmark/resource/T...   \n",
       "\n",
       "                                            relation  \\\n",
       "0  https://www.scads.de/movieBenchmark/ontology/name   \n",
       "1  https://www.scads.de/movieBenchmark/ontology/t...   \n",
       "2  https://www.scads.de/movieBenchmark/ontology/r...   \n",
       "3               http://dbpedia.org/ontology/abstract   \n",
       "4  https://www.scads.de/movieBenchmark/ontology/o...   \n",
       "5  https://www.scads.de/movieBenchmark/ontology/t...   \n",
       "6  https://www.scads.de/movieBenchmark/ontology/t...   \n",
       "7            http://dbpedia.org/ontology/releaseDate   \n",
       "8  https://www.scads.de/movieBenchmark/ontology/s...   \n",
       "9  https://www.scads.de/movieBenchmark/ontology/name   \n",
       "\n",
       "                                                tail  \n",
       "0  Dean DeBlois^^<http://www.w3.org/2001/XMLSchem...  \n",
       "1  Episode 7^^<http://www.w3.org/2001/XMLSchema#s...  \n",
       "2  2009-01-01^^<http://www.w3.org/2001/XMLSchema#...  \n",
       "3  Part two of two. Despite arresting four people...  \n",
       "4  Le Magicien^^<http://www.w3.org/2001/XMLSchema...  \n",
       "5  El Maniquí^^<http://www.w3.org/2001/XMLSchema#...  \n",
       "6  The Bellicose Proxy^^<http://www.w3.org/2001/X...  \n",
       "7  2014-02-14^^<http://www.w3.org/2001/XMLSchema#...  \n",
       "8  Returning Series^^<http://www.w3.org/2001/XMLS...  \n",
       "9  Yiu-Tsou Cheung^^<http://www.w3.org/2001/XMLSc...  "
      ]
     },
     "execution_count": 9,
     "metadata": {},
     "output_type": "execute_result"
    }
   ],
   "source": [
    "ds.attr_triples_2.head(10)\n",
    "\n"
   ]
  },
  {
   "cell_type": "code",
   "execution_count": 25,
   "metadata": {},
   "outputs": [
    {
     "data": {
      "text/plain": [
       "HeteroData(\n",
       "  \u001b[1mmovie\u001b[0m={\n",
       "    x=[4278, 3066],\n",
       "    y=[4278],\n",
       "    train_mask=[4278],\n",
       "    val_mask=[4278],\n",
       "    test_mask=[4278]\n",
       "  },\n",
       "  \u001b[1mdirector\u001b[0m={ x=[2081, 3066] },\n",
       "  \u001b[1mactor\u001b[0m={ x=[5257, 3066] },\n",
       "  \u001b[1m(movie, to, director)\u001b[0m={ edge_index=[2, 4278] },\n",
       "  \u001b[1m(movie, to, actor)\u001b[0m={ edge_index=[2, 12828] },\n",
       "  \u001b[1m(director, to, movie)\u001b[0m={ edge_index=[2, 4278] },\n",
       "  \u001b[1m(actor, to, movie)\u001b[0m={ edge_index=[2, 12828] }\n",
       ")"
      ]
     },
     "execution_count": 25,
     "metadata": {},
     "output_type": "execute_result"
    }
   ],
   "source": [
    "import torch\n",
    "from torch_geometric.datasets import IMDB\n",
    "import torch_geometric.transforms as T \n",
    "\n",
    "# Download the dataset\n",
    "dataset = IMDB(root='data/imdb',transform=T.NormalizeFeatures())\n",
    "\n",
    "# Convert the HeteroData to a homogeneous graph\n",
    "data=dataset[0]\n",
    "\n",
    "data"
   ]
  },
  {
   "cell_type": "code",
   "execution_count": 37,
   "metadata": {},
   "outputs": [
    {
     "data": {
      "text/plain": [
       "torch.Size([11616, 3066])"
      ]
     },
     "execution_count": 37,
     "metadata": {},
     "output_type": "execute_result"
    }
   ],
   "source": [
    "x=torch.cat([data[\"movie\"].x,data[\"director\"].x,data[\"actor\"].x])\n",
    "x.shape\n"
   ]
  },
  {
   "cell_type": "code",
   "execution_count": 42,
   "metadata": {},
   "outputs": [
    {
     "data": {
      "text/plain": [
       "{('movie',\n",
       "  'to',\n",
       "  'director'): tensor([[   0,    1,    2,  ..., 4275, 4276, 4277],\n",
       "         [ 789,  680, 1757,  ..., 1781,  166,  399]]),\n",
       " ('movie',\n",
       "  'to',\n",
       "  'actor'): tensor([[   0,    0,    0,  ..., 4277, 4277, 4277],\n",
       "         [ 674, 2394, 5129,  ...,  100, 1078, 1439]]),\n",
       " ('director',\n",
       "  'to',\n",
       "  'movie'): tensor([[   0,    1,    2,  ..., 2078, 2079, 2080],\n",
       "         [3972, 3751, 3090,  ..., 3246, 3652, 4143]]),\n",
       " ('actor',\n",
       "  'to',\n",
       "  'movie'): tensor([[   0,    0,    0,  ..., 5256, 5256, 5256],\n",
       "         [ 555,  703, 1147,  ..., 1765, 2086, 2540]])}"
      ]
     },
     "execution_count": 42,
     "metadata": {},
     "output_type": "execute_result"
    }
   ],
   "source": [
    "data.edge_index_dict"
   ]
  },
  {
   "cell_type": "code",
   "execution_count": 68,
   "metadata": {},
   "outputs": [
    {
     "data": {
      "text/plain": [
       "torch.Size([2, 34212])"
      ]
     },
     "execution_count": 68,
     "metadata": {},
     "output_type": "execute_result"
    }
   ],
   "source": [
    "edge_index=torch.cat([data[(\"movie\", \"to\", \"director\")].edge_index,data[(\"movie\", \"to\", \"actor\")].edge_index,data[(\"director\", \"to\", \"movie\")].edge_index,data[(\"actor\", \"to\", \"movie\")].edge_index],dim=1)\n",
    "edge_index.shape"
   ]
  },
  {
   "cell_type": "code",
   "execution_count": 69,
   "metadata": {},
   "outputs": [],
   "source": [
    "edge_index=edge_index.unique(dim=1)"
   ]
  },
  {
   "cell_type": "code",
   "execution_count": 70,
   "metadata": {},
   "outputs": [
    {
     "data": {
      "text/plain": [
       "Data(x=[11616, 3066], edge_index=[2, 34188])"
      ]
     },
     "execution_count": 70,
     "metadata": {},
     "output_type": "execute_result"
    }
   ],
   "source": [
    "from torch_geometric.data import Data\n",
    "\n",
    "\n",
    "input_data=Data(x=x,edge_index=edge_index)\n",
    "input_data"
   ]
  },
  {
   "cell_type": "code",
   "execution_count": 71,
   "metadata": {},
   "outputs": [
    {
     "name": "stderr",
     "output_type": "stream",
     "text": [
      "c:\\anaconda\\envs\\pytorch\\lib\\site-packages\\torch_geometric\\deprecation.py:12: UserWarning: 'train_test_split_edges' is deprecated, use 'transforms.RandomLinkSplit' instead\n",
      "  warnings.warn(out)\n"
     ]
    }
   ],
   "source": [
    "\n",
    "from torch_geometric.utils import train_test_split_edges\n",
    "\n",
    "\n",
    "input_data=train_test_split_edges(input_data,val_ratio=0.1,test_ratio=0.2)\n"
   ]
  },
  {
   "cell_type": "code",
   "execution_count": 72,
   "metadata": {},
   "outputs": [],
   "source": [
    "from torch_geometric.nn import VGAE\n",
    "from torch_geometric.nn import GCNConv\n",
    "\n",
    "\n",
    "class VariationalGCNEncoder(torch.nn.Module):\n",
    "    def __init__(self, in_channels, out_channels):\n",
    "        super(VariationalGCNEncoder, self).__init__()\n",
    "        self.conv1 = GCNConv(in_channels, 2 * out_channels, cached=True) # cached only for transductive learning\n",
    "        self.conv_mu = GCNConv(2 * out_channels, out_channels, cached=True)\n",
    "        self.conv_logstd = GCNConv(2 * out_channels, out_channels, cached=True)\n",
    "\n",
    "    def forward(self, x, edge_index):\n",
    "        x = self.conv1(x, edge_index).relu()\n",
    "        return self.conv_mu(x, edge_index), self.conv_logstd(x, edge_index)\n",
    "    \n",
    "\n"
   ]
  },
  {
   "cell_type": "code",
   "execution_count": 83,
   "metadata": {},
   "outputs": [],
   "source": [
    "out_channels = 20\n",
    "num_features = input_data.num_features\n",
    "epochs = 400\n",
    "\n",
    "\n",
    "model = VGAE(VariationalGCNEncoder(num_features, out_channels))  # new line\n",
    "\n",
    "device = torch.device('cuda' if torch.cuda.is_available() else 'cpu')\n",
    "model = model.to(device)\n",
    "x = input_data.x.to(device)\n",
    "train_pos_edge_index = input_data.train_pos_edge_index.to(device)\n",
    "val_pos_edge_index=input_data.val_pos_edge_index.to(device)\n",
    "test_pos_edge_index=input_data.test_pos_edge_index.to(device)\n",
    "optimizer = torch.optim.Adam(model.parameters(), lr=0.01)"
   ]
  },
  {
   "cell_type": "code",
   "execution_count": 84,
   "metadata": {},
   "outputs": [],
   "source": [
    "def train():\n",
    "    model.train()\n",
    "    optimizer.zero_grad()\n",
    "    z = model.encode(x, train_pos_edge_index)\n",
    "    loss = model.recon_loss(z, train_pos_edge_index)\n",
    "    \n",
    "    loss = loss + (1 / input_data.num_nodes) * model.kl_loss()  # new line\n",
    "    loss.backward()\n",
    "    optimizer.step()\n",
    "    return float(loss)\n",
    "\n",
    "\n",
    "def test(test,pos_edge_index, neg_edge_index):\n",
    "    model.eval()\n",
    "    with torch.no_grad():\n",
    "        z = model.encode(x, test)\n",
    "    return model.test(z, pos_edge_index, neg_edge_index)"
   ]
  },
  {
   "cell_type": "code",
   "execution_count": 86,
   "metadata": {},
   "outputs": [
    {
     "name": "stderr",
     "output_type": "stream",
     "text": [
      "100%|██████████| 400/400 [02:04<00:00,  3.22it/s]\n"
     ]
    }
   ],
   "source": [
    "from torch.utils.tensorboard import SummaryWriter\n",
    "from  tqdm.auto import tqdm\n",
    "\n",
    "writer = SummaryWriter('runs/VGAE_experiment_IMDB'+'20d_400_epochs_2')\n",
    "\n",
    "for epoch in tqdm(range(1, epochs + 1)):\n",
    "    loss = train()\n",
    "    auc, ap = test(test_pos_edge_index,input_data.test_pos_edge_index, input_data.test_neg_edge_index)\n",
    "    #print('Epoch: {:03d}, AUC: {:.4f}, AP: {:.4f}'.format(epoch, auc, ap))\n",
    "    #tqdm.set_description(f'Epoch {str(epoch)}, Train Loss: {str(loss)}, Train AP: {str(ap)}, auc: {str(auc)}')\n",
    "    \n",
    "    writer.add_scalar('auc train',auc,epoch) # new line\n",
    "    writer.add_scalar('ap train',ap,epoch)   # new line\n",
    "    writer.add_scalar('loss',loss,epoch)\n",
    "\n"
   ]
  },
  {
   "cell_type": "code",
   "execution_count": 88,
   "metadata": {},
   "outputs": [],
   "source": [
    "torch.save(model.state_dict(), 'models/VGAE_experiment_IMDB'+'20d_400_epochs')"
   ]
  },
  {
   "cell_type": "code",
   "execution_count": 97,
   "metadata": {},
   "outputs": [
    {
     "data": {
      "text/plain": [
       "array([[ 0.4460761 ,  0.2925882 , -0.35987073, ...,  0.39846468,\n",
       "        -0.30838662,  0.4192141 ],\n",
       "       [ 0.34631002,  0.35637385, -0.09218901, ...,  0.26474082,\n",
       "        -0.13697185,  0.35040012],\n",
       "       [ 0.2877815 ,  0.34571308, -0.10854623, ...,  0.294645  ,\n",
       "        -0.27773848,  0.41967347],\n",
       "       ...,\n",
       "       [-0.14537042, -0.18813905, -0.04543076, ..., -0.09786035,\n",
       "        -0.03228566, -0.2599634 ],\n",
       "       [-0.17132288, -0.11243628,  0.29255438, ..., -0.19438043,\n",
       "         0.13042957, -0.26825064],\n",
       "       [-0.24246041, -0.21080086, -0.05785967, ...,  0.05894051,\n",
       "         0.00316355,  0.02363967]], dtype=float32)"
      ]
     },
     "execution_count": 97,
     "metadata": {},
     "output_type": "execute_result"
    }
   ],
   "source": [
    "\n",
    "latent_space=model.encode(input_data.x,train_pos_edge_index)\n",
    "latent_space = latent_space.detach().numpy()\n",
    "latent_space"
   ]
  },
  {
   "cell_type": "code",
   "execution_count": 98,
   "metadata": {},
   "outputs": [
    {
     "data": {
      "image/png": "[encoded data removed]",
      "text/plain": [
       "<Figure size 640x480 with 1 Axes>"
      ]
     },
     "metadata": {},
     "output_type": "display_data"
    },
    {
     "ename": "MemoryError",
     "evalue": "Unable to allocate 10.1 GiB for an array with shape (11616, 11616, 20) and data type float32",
     "output_type": "error",
     "traceback": [
      "\u001b[1;31m---------------------------------------------------------------------------\u001b[0m",
      "\u001b[1;31mMemoryError\u001b[0m                               Traceback (most recent call last)",
      "Cell \u001b[1;32mIn[98], line 19\u001b[0m\n\u001b[0;32m     16\u001b[0m plt\u001b[39m.\u001b[39mshow()\n\u001b[0;32m     18\u001b[0m \u001b[39m# Identify overlapping regions by finding pairs of points that belong to different clusters but are located close together\u001b[39;00m\n\u001b[1;32m---> 19\u001b[0m pairwise_distances \u001b[39m=\u001b[39m np\u001b[39m.\u001b[39;49mlinalg\u001b[39m.\u001b[39;49mnorm(latent_space[:, np\u001b[39m.\u001b[39;49mnewaxis] \u001b[39m-\u001b[39;49m latent_space, axis\u001b[39m=\u001b[39;49m\u001b[39m-\u001b[39;49m\u001b[39m1\u001b[39;49m)\n\u001b[0;32m     20\u001b[0m overlapping_points \u001b[39m=\u001b[39m np\u001b[39m.\u001b[39margwhere((pairwise_distances \u001b[39m<\u001b[39m \u001b[39m0.2\u001b[39m) \u001b[39m&\u001b[39m (cluster_labels[:, np\u001b[39m.\u001b[39mnewaxis] \u001b[39m!=\u001b[39m cluster_labels))\u001b[39m.\u001b[39mflatten()\n\u001b[0;32m     21\u001b[0m \u001b[39mprint\u001b[39m(\u001b[39m\"\u001b[39m\u001b[39mOverlapping points:\u001b[39m\u001b[39m\"\u001b[39m, overlapping_points)\n",
      "File \u001b[1;32m<__array_function__ internals>:180\u001b[0m, in \u001b[0;36mnorm\u001b[1;34m(*args, **kwargs)\u001b[0m\n",
      "File \u001b[1;32mc:\\anaconda\\envs\\pytorch\\lib\\site-packages\\numpy\\linalg\\linalg.py:2556\u001b[0m, in \u001b[0;36mnorm\u001b[1;34m(x, ord, axis, keepdims)\u001b[0m\n\u001b[0;32m   2553\u001b[0m     \u001b[39mreturn\u001b[39;00m add\u001b[39m.\u001b[39mreduce(\u001b[39mabs\u001b[39m(x), axis\u001b[39m=\u001b[39maxis, keepdims\u001b[39m=\u001b[39mkeepdims)\n\u001b[0;32m   2554\u001b[0m \u001b[39melif\u001b[39;00m \u001b[39mord\u001b[39m \u001b[39mis\u001b[39;00m \u001b[39mNone\u001b[39;00m \u001b[39mor\u001b[39;00m \u001b[39mord\u001b[39m \u001b[39m==\u001b[39m \u001b[39m2\u001b[39m:\n\u001b[0;32m   2555\u001b[0m     \u001b[39m# special case for speedup\u001b[39;00m\n\u001b[1;32m-> 2556\u001b[0m     s \u001b[39m=\u001b[39m (x\u001b[39m.\u001b[39;49mconj() \u001b[39m*\u001b[39;49m x)\u001b[39m.\u001b[39mreal\n\u001b[0;32m   2557\u001b[0m     \u001b[39mreturn\u001b[39;00m sqrt(add\u001b[39m.\u001b[39mreduce(s, axis\u001b[39m=\u001b[39maxis, keepdims\u001b[39m=\u001b[39mkeepdims))\n\u001b[0;32m   2558\u001b[0m \u001b[39m# None of the str-type keywords for ord ('fro', 'nuc')\u001b[39;00m\n\u001b[0;32m   2559\u001b[0m \u001b[39m# are valid for vectors\u001b[39;00m\n",
      "\u001b[1;31mMemoryError\u001b[0m: Unable to allocate 10.1 GiB for an array with shape (11616, 11616, 20) and data type float32"
     ]
    }
   ],
   "source": [
    "from sklearn.cluster import DBSCAN\n",
    "from sklearn.manifold import TSNE\n",
    "import matplotlib.pyplot as plt\n",
    "import numpy as np\n",
    "\n",
    "\n",
    "dbscan = DBSCAN(eps=0.5, min_samples=5)\n",
    "cluster_labels = dbscan.fit_predict(latent_space)\n",
    "\n",
    "# Apply t-SNE dimensionality reduction technique to reduce the dimensionality of the latent space embeddings\n",
    "tsne = TSNE(n_components=2, perplexity=30, random_state=0)\n",
    "tsne_embeddings = tsne.fit_transform(latent_space)\n",
    "\n",
    "# Plot the reduced embeddings and color code the points based on their cluster assignments\n",
    "plt.scatter(tsne_embeddings[:, 0], tsne_embeddings[:, 1], c=cluster_labels)\n",
    "plt.show()\n",
    "\n",
    "# Identify overlapping regions by finding pairs of points that belong to different clusters but are located close together\n",
    "pairwise_distances = np.linalg.norm(latent_space[:, np.newaxis] - latent_space, axis=-1)\n",
    "overlapping_points = np.argwhere((pairwise_distances < 0.2) & (cluster_labels[:, np.newaxis] != cluster_labels)).flatten()\n",
    "print(\"Overlapping points:\", overlapping_points)"
   ]
  },
  {
   "cell_type": "code",
   "execution_count": null,
   "metadata": {},
   "outputs": [],
   "source": []
  }
 ],
 "metadata": {
  "kernelspec": {
   "display_name": "pytorch",
   "language": "python",
   "name": "python3"
  },
  "language_info": {
   "codemirror_mode": {
    "name": "ipython",
    "version": 3
   },
   "file_extension": ".py",
   "mimetype": "text/x-python",
   "name": "python",
   "nbconvert_exporter": "python",
   "pygments_lexer": "ipython3",
   "version": "3.10.9"
  },
  "orig_nbformat": 4,
  "vscode": {
   "interpreter": {
    "hash": "8439be6156e00e040a34dd2daffb6dbca49de78d4cbdb6ac11b5b1f9f81a4afc"
   }
  }
 },
 "nbformat": 4,
 "nbformat_minor": 2
}
